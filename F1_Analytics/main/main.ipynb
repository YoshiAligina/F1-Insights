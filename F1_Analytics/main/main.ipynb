{
 "cells": [
  {
   "cell_type": "code",
   "execution_count": 7,
   "metadata": {},
   "outputs": [],
   "source": [
    "import pandas as pd\n",
    "\n",
    "races = pd.read_csv('C:/Users/yoshi/OneDrive/Desktop/F1_Analytics/races.csv')\n",
    "results = pd.read_csv('C:/Users/yoshi/OneDrive/Desktop/F1_Analytics/results.csv')\n",
    "pit_stops = pd.read_csv('C:/Users/yoshi/OneDrive/Desktop/F1_Analytics/pit_stops.csv')\n",
    "lap_times = pd.read_csv('C:/Users/yoshi/OneDrive/Desktop/F1_Analytics/lap_times.csv')\n",
    "drivers = pd.read_csv('C:/Users/yoshi/OneDrive/Desktop/F1_Analytics/drivers.csv')\n",
    "constructors = pd.read_csv('C:/Users/yoshi/OneDrive/Desktop/F1_Analytics/constructors.csv')\n"
   ]
  },
  {
   "cell_type": "code",
   "execution_count": null,
   "metadata": {},
   "outputs": [],
   "source": []
  }
 ],
 "metadata": {
  "kernelspec": {
   "display_name": "base",
   "language": "python",
   "name": "python3"
  },
  "language_info": {
   "codemirror_mode": {
    "name": "ipython",
    "version": 3
   },
   "file_extension": ".py",
   "mimetype": "text/x-python",
   "name": "python",
   "nbconvert_exporter": "python",
   "pygments_lexer": "ipython3",
   "version": "3.11.7"
  }
 },
 "nbformat": 4,
 "nbformat_minor": 2
}
